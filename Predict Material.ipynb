{
 "cells": [
  {
   "cell_type": "code",
   "execution_count": 1,
   "metadata": {},
   "outputs": [],
   "source": [
    "# Imports\n",
    "import torch\n",
    "import torch.nn as nn\n",
    "import torch.nn.functional as F\n",
    "from torch.utils.data import Dataset, DataLoader\n",
    "from sklearn.model_selection import train_test_split\n",
    "\n",
    "import pandas as pd\n",
    "import matplotlib.pyplot as plt\n",
    "%matplotlib inline"
   ]
  },
  {
   "cell_type": "markdown",
   "metadata": {},
   "source": [
    "# 1) Data Pre-Processing"
   ]
  },
  {
   "cell_type": "code",
   "execution_count": 2,
   "metadata": {},
   "outputs": [],
   "source": [
    "df_materials = pd.read_excel('Coef_Absorcion.xls', sheet_name='Materials')\n",
    "df_categories = pd.read_excel('Coef_Absorcion.xls', sheet_name='Llegenda')"
   ]
  },
  {
   "cell_type": "code",
   "execution_count": 3,
   "metadata": {},
   "outputs": [
    {
     "data": {
      "text/html": [
       "<div>\n",
       "<style scoped>\n",
       "    .dataframe tbody tr th:only-of-type {\n",
       "        vertical-align: middle;\n",
       "    }\n",
       "\n",
       "    .dataframe tbody tr th {\n",
       "        vertical-align: top;\n",
       "    }\n",
       "\n",
       "    .dataframe thead th {\n",
       "        text-align: right;\n",
       "    }\n",
       "</style>\n",
       "<table border=\"1\" class=\"dataframe\">\n",
       "  <thead>\n",
       "    <tr style=\"text-align: right;\">\n",
       "      <th></th>\n",
       "      <th>description</th>\n",
       "      <th>63</th>\n",
       "      <th>125</th>\n",
       "      <th>250</th>\n",
       "      <th>500</th>\n",
       "      <th>1000</th>\n",
       "      <th>2000</th>\n",
       "      <th>4000</th>\n",
       "      <th>8000</th>\n",
       "      <th>a Max</th>\n",
       "      <th>material criteria</th>\n",
       "      <th>Unnamed: 11</th>\n",
       "      <th>character of absorption</th>\n",
       "      <th>Unnamed: 13</th>\n",
       "      <th>reference</th>\n",
       "    </tr>\n",
       "  </thead>\n",
       "  <tbody>\n",
       "    <tr>\n",
       "      <th>0</th>\n",
       "      <td>Fiberglass boards and blankets, 2,54 cm glass ...</td>\n",
       "      <td>NaN</td>\n",
       "      <td>0.08</td>\n",
       "      <td>0.25</td>\n",
       "      <td>0.65</td>\n",
       "      <td>0.85</td>\n",
       "      <td>0.80</td>\n",
       "      <td>0.75</td>\n",
       "      <td>NaN</td>\n",
       "      <td>0.85</td>\n",
       "      <td>1.0</td>\n",
       "      <td>NaN</td>\n",
       "      <td>2.0</td>\n",
       "      <td>NaN</td>\n",
       "      <td>Harris:Handbook of Acoustical Measurements and...</td>\n",
       "    </tr>\n",
       "    <tr>\n",
       "      <th>1</th>\n",
       "      <td>Fiberglass boards and blankets, 5.1 cm glass w...</td>\n",
       "      <td>NaN</td>\n",
       "      <td>0.17</td>\n",
       "      <td>0.55</td>\n",
       "      <td>0.80</td>\n",
       "      <td>0.90</td>\n",
       "      <td>0.85</td>\n",
       "      <td>0.80</td>\n",
       "      <td>NaN</td>\n",
       "      <td>0.90</td>\n",
       "      <td>1.0</td>\n",
       "      <td>NaN</td>\n",
       "      <td>2.0</td>\n",
       "      <td>NaN</td>\n",
       "      <td>Harris:Handbook of Acoustical Measurements and...</td>\n",
       "    </tr>\n",
       "    <tr>\n",
       "      <th>2</th>\n",
       "      <td>Fiberglass boards and blankets, 2.54 cm glass ...</td>\n",
       "      <td>NaN</td>\n",
       "      <td>0.15</td>\n",
       "      <td>0.55</td>\n",
       "      <td>0.80</td>\n",
       "      <td>0.90</td>\n",
       "      <td>0.85</td>\n",
       "      <td>0.80</td>\n",
       "      <td>NaN</td>\n",
       "      <td>0.90</td>\n",
       "      <td>1.0</td>\n",
       "      <td>NaN</td>\n",
       "      <td>2.0</td>\n",
       "      <td>NaN</td>\n",
       "      <td>Harris:Handbook of Acoustical Measurements and...</td>\n",
       "    </tr>\n",
       "    <tr>\n",
       "      <th>3</th>\n",
       "      <td>Fiberglass boards and blankets, 5.1 cm fibergl...</td>\n",
       "      <td>NaN</td>\n",
       "      <td>0.33</td>\n",
       "      <td>0.79</td>\n",
       "      <td>0.99</td>\n",
       "      <td>0.91</td>\n",
       "      <td>0.76</td>\n",
       "      <td>0.64</td>\n",
       "      <td>NaN</td>\n",
       "      <td>0.99</td>\n",
       "      <td>1.0</td>\n",
       "      <td>NaN</td>\n",
       "      <td>2.0</td>\n",
       "      <td>NaN</td>\n",
       "      <td>Harris:Handbook of Acoustical Measurements and...</td>\n",
       "    </tr>\n",
       "    <tr>\n",
       "      <th>4</th>\n",
       "      <td>Mineral spray-on materials, 1.27 cm mineral fiber</td>\n",
       "      <td>NaN</td>\n",
       "      <td>0.05</td>\n",
       "      <td>0.15</td>\n",
       "      <td>0.45</td>\n",
       "      <td>0.70</td>\n",
       "      <td>0.80</td>\n",
       "      <td>0.80</td>\n",
       "      <td>NaN</td>\n",
       "      <td>0.80</td>\n",
       "      <td>1.0</td>\n",
       "      <td>NaN</td>\n",
       "      <td>2.0</td>\n",
       "      <td>4.0</td>\n",
       "      <td>Harris:Handbook of Acoustical Measurements and...</td>\n",
       "    </tr>\n",
       "  </tbody>\n",
       "</table>\n",
       "</div>"
      ],
      "text/plain": [
       "                                         description  63   125   250   500  \\\n",
       "0  Fiberglass boards and blankets, 2,54 cm glass ... NaN  0.08  0.25  0.65   \n",
       "1  Fiberglass boards and blankets, 5.1 cm glass w... NaN  0.17  0.55  0.80   \n",
       "2  Fiberglass boards and blankets, 2.54 cm glass ... NaN  0.15  0.55  0.80   \n",
       "3  Fiberglass boards and blankets, 5.1 cm fibergl... NaN  0.33  0.79  0.99   \n",
       "4  Mineral spray-on materials, 1.27 cm mineral fiber NaN  0.05  0.15  0.45   \n",
       "\n",
       "   1000  2000  4000  8000  a Max  material criteria  Unnamed: 11  \\\n",
       "0  0.85  0.80  0.75   NaN   0.85                1.0          NaN   \n",
       "1  0.90  0.85  0.80   NaN   0.90                1.0          NaN   \n",
       "2  0.90  0.85  0.80   NaN   0.90                1.0          NaN   \n",
       "3  0.91  0.76  0.64   NaN   0.99                1.0          NaN   \n",
       "4  0.70  0.80  0.80   NaN   0.80                1.0          NaN   \n",
       "\n",
       "   character of absorption  Unnamed: 13  \\\n",
       "0                      2.0          NaN   \n",
       "1                      2.0          NaN   \n",
       "2                      2.0          NaN   \n",
       "3                      2.0          NaN   \n",
       "4                      2.0          4.0   \n",
       "\n",
       "                                          reference   \n",
       "0  Harris:Handbook of Acoustical Measurements and...  \n",
       "1  Harris:Handbook of Acoustical Measurements and...  \n",
       "2  Harris:Handbook of Acoustical Measurements and...  \n",
       "3  Harris:Handbook of Acoustical Measurements and...  \n",
       "4  Harris:Handbook of Acoustical Measurements and...  "
      ]
     },
     "execution_count": 3,
     "metadata": {},
     "output_type": "execute_result"
    }
   ],
   "source": [
    "df_materials.head()"
   ]
  },
  {
   "cell_type": "code",
   "execution_count": 4,
   "metadata": {},
   "outputs": [
    {
     "data": {
      "text/plain": [
       "['description',\n",
       " 63,\n",
       " 125,\n",
       " 250,\n",
       " 500,\n",
       " 1000,\n",
       " 2000,\n",
       " 4000,\n",
       " 8000,\n",
       " 'a Max',\n",
       " 'material criteria',\n",
       " 'Unnamed: 11',\n",
       " 'character of absorption',\n",
       " 'Unnamed: 13',\n",
       " 'reference ']"
      ]
     },
     "execution_count": 4,
     "metadata": {},
     "output_type": "execute_result"
    }
   ],
   "source": [
    "# Column names\n",
    "list(df_materials.columns.values)"
   ]
  },
  {
   "cell_type": "code",
   "execution_count": 5,
   "metadata": {},
   "outputs": [],
   "source": [
    "# Relevant columns\n",
    "df_rel_mat = df_materials[[125, 250, 500, 1000, 2000, 4000, 'material criteria', 'character of absorption']]"
   ]
  },
  {
   "cell_type": "code",
   "execution_count": 6,
   "metadata": {},
   "outputs": [],
   "source": [
    "# Material type\n",
    "df_mat = df_materials[[125, 250, 500, 1000, 2000, 4000, 'material criteria']]\n",
    "# Material character\n",
    "df_mattype = df_materials[[125, 250, 500, 1000, 2000, 4000, 'character of absorption']]"
   ]
  },
  {
   "cell_type": "code",
   "execution_count": 7,
   "metadata": {},
   "outputs": [
    {
     "data": {
      "text/plain": [
       "1000"
      ]
     },
     "execution_count": 7,
     "metadata": {},
     "output_type": "execute_result"
    }
   ],
   "source": [
    "#len(df_mat)\n",
    "len(df_mattype)"
   ]
  },
  {
   "cell_type": "code",
   "execution_count": 8,
   "metadata": {},
   "outputs": [],
   "source": [
    "# Clean empty rows\n",
    "df_mat = df_mat.dropna()\n",
    "df_mattype = df_mattype.dropna()"
   ]
  },
  {
   "cell_type": "code",
   "execution_count": 9,
   "metadata": {},
   "outputs": [
    {
     "data": {
      "text/plain": [
       "972"
      ]
     },
     "execution_count": 9,
     "metadata": {},
     "output_type": "execute_result"
    }
   ],
   "source": [
    "len(df_mat)\n",
    "len(df_mattype)"
   ]
  },
  {
   "cell_type": "code",
   "execution_count": 10,
   "metadata": {},
   "outputs": [
    {
     "data": {
      "text/html": [
       "<div>\n",
       "<style scoped>\n",
       "    .dataframe tbody tr th:only-of-type {\n",
       "        vertical-align: middle;\n",
       "    }\n",
       "\n",
       "    .dataframe tbody tr th {\n",
       "        vertical-align: top;\n",
       "    }\n",
       "\n",
       "    .dataframe thead th {\n",
       "        text-align: right;\n",
       "    }\n",
       "</style>\n",
       "<table border=\"1\" class=\"dataframe\">\n",
       "  <thead>\n",
       "    <tr style=\"text-align: right;\">\n",
       "      <th></th>\n",
       "      <th>125</th>\n",
       "      <th>250</th>\n",
       "      <th>500</th>\n",
       "      <th>1000</th>\n",
       "      <th>2000</th>\n",
       "      <th>4000</th>\n",
       "      <th>character of absorption</th>\n",
       "    </tr>\n",
       "  </thead>\n",
       "  <tbody>\n",
       "    <tr>\n",
       "      <th>0</th>\n",
       "      <td>0.08</td>\n",
       "      <td>0.25</td>\n",
       "      <td>0.65</td>\n",
       "      <td>0.85</td>\n",
       "      <td>0.80</td>\n",
       "      <td>0.75</td>\n",
       "      <td>2.0</td>\n",
       "    </tr>\n",
       "    <tr>\n",
       "      <th>1</th>\n",
       "      <td>0.17</td>\n",
       "      <td>0.55</td>\n",
       "      <td>0.80</td>\n",
       "      <td>0.90</td>\n",
       "      <td>0.85</td>\n",
       "      <td>0.80</td>\n",
       "      <td>2.0</td>\n",
       "    </tr>\n",
       "    <tr>\n",
       "      <th>2</th>\n",
       "      <td>0.15</td>\n",
       "      <td>0.55</td>\n",
       "      <td>0.80</td>\n",
       "      <td>0.90</td>\n",
       "      <td>0.85</td>\n",
       "      <td>0.80</td>\n",
       "      <td>2.0</td>\n",
       "    </tr>\n",
       "    <tr>\n",
       "      <th>3</th>\n",
       "      <td>0.33</td>\n",
       "      <td>0.79</td>\n",
       "      <td>0.99</td>\n",
       "      <td>0.91</td>\n",
       "      <td>0.76</td>\n",
       "      <td>0.64</td>\n",
       "      <td>2.0</td>\n",
       "    </tr>\n",
       "    <tr>\n",
       "      <th>4</th>\n",
       "      <td>0.05</td>\n",
       "      <td>0.15</td>\n",
       "      <td>0.45</td>\n",
       "      <td>0.70</td>\n",
       "      <td>0.80</td>\n",
       "      <td>0.80</td>\n",
       "      <td>2.0</td>\n",
       "    </tr>\n",
       "  </tbody>\n",
       "</table>\n",
       "</div>"
      ],
      "text/plain": [
       "    125   250   500  1000  2000  4000  character of absorption\n",
       "0  0.08  0.25  0.65  0.85  0.80  0.75                      2.0\n",
       "1  0.17  0.55  0.80  0.90  0.85  0.80                      2.0\n",
       "2  0.15  0.55  0.80  0.90  0.85  0.80                      2.0\n",
       "3  0.33  0.79  0.99  0.91  0.76  0.64                      2.0\n",
       "4  0.05  0.15  0.45  0.70  0.80  0.80                      2.0"
      ]
     },
     "execution_count": 10,
     "metadata": {},
     "output_type": "execute_result"
    }
   ],
   "source": [
    "#df_mat.head()\n",
    "df_mattype.head()"
   ]
  },
  {
   "cell_type": "code",
   "execution_count": 11,
   "metadata": {},
   "outputs": [],
   "source": [
    "#df_mat['material criteria'] = df_mat['material criteria'] - 1\n",
    "df_mattype['character of absorption'] = df_mattype['character of absorption'] - 1"
   ]
  },
  {
   "cell_type": "code",
   "execution_count": 12,
   "metadata": {},
   "outputs": [
    {
     "data": {
      "text/html": [
       "<div>\n",
       "<style scoped>\n",
       "    .dataframe tbody tr th:only-of-type {\n",
       "        vertical-align: middle;\n",
       "    }\n",
       "\n",
       "    .dataframe tbody tr th {\n",
       "        vertical-align: top;\n",
       "    }\n",
       "\n",
       "    .dataframe thead th {\n",
       "        text-align: right;\n",
       "    }\n",
       "</style>\n",
       "<table border=\"1\" class=\"dataframe\">\n",
       "  <thead>\n",
       "    <tr style=\"text-align: right;\">\n",
       "      <th></th>\n",
       "      <th>125</th>\n",
       "      <th>250</th>\n",
       "      <th>500</th>\n",
       "      <th>1000</th>\n",
       "      <th>2000</th>\n",
       "      <th>4000</th>\n",
       "      <th>character of absorption</th>\n",
       "    </tr>\n",
       "  </thead>\n",
       "  <tbody>\n",
       "    <tr>\n",
       "      <th>0</th>\n",
       "      <td>0.08</td>\n",
       "      <td>0.25</td>\n",
       "      <td>0.65</td>\n",
       "      <td>0.85</td>\n",
       "      <td>0.80</td>\n",
       "      <td>0.75</td>\n",
       "      <td>1.0</td>\n",
       "    </tr>\n",
       "    <tr>\n",
       "      <th>1</th>\n",
       "      <td>0.17</td>\n",
       "      <td>0.55</td>\n",
       "      <td>0.80</td>\n",
       "      <td>0.90</td>\n",
       "      <td>0.85</td>\n",
       "      <td>0.80</td>\n",
       "      <td>1.0</td>\n",
       "    </tr>\n",
       "    <tr>\n",
       "      <th>2</th>\n",
       "      <td>0.15</td>\n",
       "      <td>0.55</td>\n",
       "      <td>0.80</td>\n",
       "      <td>0.90</td>\n",
       "      <td>0.85</td>\n",
       "      <td>0.80</td>\n",
       "      <td>1.0</td>\n",
       "    </tr>\n",
       "    <tr>\n",
       "      <th>3</th>\n",
       "      <td>0.33</td>\n",
       "      <td>0.79</td>\n",
       "      <td>0.99</td>\n",
       "      <td>0.91</td>\n",
       "      <td>0.76</td>\n",
       "      <td>0.64</td>\n",
       "      <td>1.0</td>\n",
       "    </tr>\n",
       "    <tr>\n",
       "      <th>4</th>\n",
       "      <td>0.05</td>\n",
       "      <td>0.15</td>\n",
       "      <td>0.45</td>\n",
       "      <td>0.70</td>\n",
       "      <td>0.80</td>\n",
       "      <td>0.80</td>\n",
       "      <td>1.0</td>\n",
       "    </tr>\n",
       "  </tbody>\n",
       "</table>\n",
       "</div>"
      ],
      "text/plain": [
       "    125   250   500  1000  2000  4000  character of absorption\n",
       "0  0.08  0.25  0.65  0.85  0.80  0.75                      1.0\n",
       "1  0.17  0.55  0.80  0.90  0.85  0.80                      1.0\n",
       "2  0.15  0.55  0.80  0.90  0.85  0.80                      1.0\n",
       "3  0.33  0.79  0.99  0.91  0.76  0.64                      1.0\n",
       "4  0.05  0.15  0.45  0.70  0.80  0.80                      1.0"
      ]
     },
     "execution_count": 12,
     "metadata": {},
     "output_type": "execute_result"
    }
   ],
   "source": [
    "df_mattype.head()"
   ]
  },
  {
   "cell_type": "code",
   "execution_count": 13,
   "metadata": {},
   "outputs": [],
   "source": [
    "#df_mat['material criteria'] = df_mat['material criteria'].astype(int)\n",
    "df_mattype['character of absorption'] = df_mattype['character of absorption'].astype(int)"
   ]
  },
  {
   "cell_type": "code",
   "execution_count": 14,
   "metadata": {},
   "outputs": [
    {
     "data": {
      "text/html": [
       "<div>\n",
       "<style scoped>\n",
       "    .dataframe tbody tr th:only-of-type {\n",
       "        vertical-align: middle;\n",
       "    }\n",
       "\n",
       "    .dataframe tbody tr th {\n",
       "        vertical-align: top;\n",
       "    }\n",
       "\n",
       "    .dataframe thead th {\n",
       "        text-align: right;\n",
       "    }\n",
       "</style>\n",
       "<table border=\"1\" class=\"dataframe\">\n",
       "  <thead>\n",
       "    <tr style=\"text-align: right;\">\n",
       "      <th></th>\n",
       "      <th>125</th>\n",
       "      <th>250</th>\n",
       "      <th>500</th>\n",
       "      <th>1000</th>\n",
       "      <th>2000</th>\n",
       "      <th>4000</th>\n",
       "      <th>character of absorption</th>\n",
       "    </tr>\n",
       "  </thead>\n",
       "  <tbody>\n",
       "    <tr>\n",
       "      <th>0</th>\n",
       "      <td>0.08</td>\n",
       "      <td>0.25</td>\n",
       "      <td>0.65</td>\n",
       "      <td>0.85</td>\n",
       "      <td>0.80</td>\n",
       "      <td>0.75</td>\n",
       "      <td>1</td>\n",
       "    </tr>\n",
       "    <tr>\n",
       "      <th>1</th>\n",
       "      <td>0.17</td>\n",
       "      <td>0.55</td>\n",
       "      <td>0.80</td>\n",
       "      <td>0.90</td>\n",
       "      <td>0.85</td>\n",
       "      <td>0.80</td>\n",
       "      <td>1</td>\n",
       "    </tr>\n",
       "    <tr>\n",
       "      <th>2</th>\n",
       "      <td>0.15</td>\n",
       "      <td>0.55</td>\n",
       "      <td>0.80</td>\n",
       "      <td>0.90</td>\n",
       "      <td>0.85</td>\n",
       "      <td>0.80</td>\n",
       "      <td>1</td>\n",
       "    </tr>\n",
       "    <tr>\n",
       "      <th>3</th>\n",
       "      <td>0.33</td>\n",
       "      <td>0.79</td>\n",
       "      <td>0.99</td>\n",
       "      <td>0.91</td>\n",
       "      <td>0.76</td>\n",
       "      <td>0.64</td>\n",
       "      <td>1</td>\n",
       "    </tr>\n",
       "    <tr>\n",
       "      <th>4</th>\n",
       "      <td>0.05</td>\n",
       "      <td>0.15</td>\n",
       "      <td>0.45</td>\n",
       "      <td>0.70</td>\n",
       "      <td>0.80</td>\n",
       "      <td>0.80</td>\n",
       "      <td>1</td>\n",
       "    </tr>\n",
       "  </tbody>\n",
       "</table>\n",
       "</div>"
      ],
      "text/plain": [
       "    125   250   500  1000  2000  4000  character of absorption\n",
       "0  0.08  0.25  0.65  0.85  0.80  0.75                        1\n",
       "1  0.17  0.55  0.80  0.90  0.85  0.80                        1\n",
       "2  0.15  0.55  0.80  0.90  0.85  0.80                        1\n",
       "3  0.33  0.79  0.99  0.91  0.76  0.64                        1\n",
       "4  0.05  0.15  0.45  0.70  0.80  0.80                        1"
      ]
     },
     "execution_count": 14,
     "metadata": {},
     "output_type": "execute_result"
    }
   ],
   "source": [
    "df_mattype.head()"
   ]
  },
  {
   "cell_type": "markdown",
   "metadata": {},
   "source": [
    "# Model\n",
    "class Model(nn.Module):\n",
    "    def __init__(self, in_features=6, h1=12, h2=24, h3=86, h4=24, h5=18, out_features=12):\n",
    "        super().__init__()\n",
    "        self.fc1 = nn.Linear(in_features,h1)    # input layer\n",
    "        self.fc2 = nn.Linear(h1, h2)            # hidden layers\n",
    "        self.fc3 = nn.Linear(h2, h3)\n",
    "        self.fc4 = nn.Linear(h3, h4)\n",
    "        self.fc5 = nn.Linear(h4, h5)\n",
    "        self.out = nn.Linear(h5, out_features)  # output layer\n",
    "        \n",
    "    def forward(self, x):\n",
    "        x = F.relu(self.fc1(x))\n",
    "        x = F.relu(self.fc2(x))\n",
    "        x = F.relu(self.fc3(x))\n",
    "        x = F.relu(self.fc4(x))\n",
    "        x = F.relu(self.fc5(x))\n",
    "        x = self.out(x)\n",
    "        return x"
   ]
  },
  {
   "cell_type": "code",
   "execution_count": 15,
   "metadata": {},
   "outputs": [],
   "source": [
    "class Model(nn.Module):\n",
    "    def __init__(self, in_features=6, h1=9, h2=12, h3=9, out_features=5):\n",
    "        super().__init__()\n",
    "        self.fc1 = nn.Linear(in_features,h1)    # input layer\n",
    "        self.fc2 = nn.Linear(h1, h2)            # hidden layer\n",
    "        self.fc3 = nn.Linear(h2, h3)  \n",
    "        self.out = nn.Linear(h3, out_features)  # output layer\n",
    "        \n",
    "    def forward(self, x):\n",
    "        x = F.relu(self.fc1(x))\n",
    "        x = F.relu(self.fc2(x))\n",
    "        x = F.relu(self.fc3(x))\n",
    "        x = self.out(x)\n",
    "        return x"
   ]
  },
  {
   "cell_type": "code",
   "execution_count": 24,
   "metadata": {},
   "outputs": [],
   "source": [
    "# Test/train split\n",
    "#X = df_mat.drop('material criteria',axis=1).values\n",
    "#y = df_mat['material criteria'].values\n",
    "\n",
    "X = df_mattype.drop('character of absorption',axis=1).values\n",
    "y = df_mattype['character of absorption'].values\n",
    "\n",
    "X_train, X_test, y_train, y_test = train_test_split(X,y,test_size=0.2,random_state=33)\n",
    "\n",
    "X_train = torch.FloatTensor(X_train)\n",
    "X_test = torch.FloatTensor(X_test)\n",
    "# y_train = F.one_hot(torch.LongTensor(y_train))  # not needed with Cross Entropy Loss\n",
    "# y_test = F.one_hot(torch.LongTensor(y_test))\n",
    "y_train = torch.LongTensor(y_train)\n",
    "y_test = torch.LongTensor(y_test)"
   ]
  },
  {
   "cell_type": "code",
   "execution_count": 25,
   "metadata": {},
   "outputs": [],
   "source": [
    "# Dataloader\n",
    "trainloader = DataLoader(X_train, batch_size=200, shuffle=True)\n",
    "testloader = DataLoader(X_test, batch_size=200, shuffle=False)"
   ]
  },
  {
   "cell_type": "code",
   "execution_count": 26,
   "metadata": {},
   "outputs": [],
   "source": [
    "# Initialize model\n",
    "torch.manual_seed(10)\n",
    "model = Model()"
   ]
  },
  {
   "cell_type": "code",
   "execution_count": 27,
   "metadata": {},
   "outputs": [],
   "source": [
    "criterion = nn.CrossEntropyLoss()\n",
    "optimizer = torch.optim.Adam(model.parameters(), lr=0.002)"
   ]
  },
  {
   "cell_type": "code",
   "execution_count": 28,
   "metadata": {},
   "outputs": [
    {
     "name": "stdout",
     "output_type": "stream",
     "text": [
      "epoch:  1  loss: 1.52022123\n",
      "epoch: 101  loss: 0.71750277\n",
      "epoch: 201  loss: 0.56513691\n",
      "epoch: 301  loss: 0.45019281\n",
      "epoch: 401  loss: 0.40953350\n",
      "epoch: 501  loss: 0.39891234\n",
      "epoch: 601  loss: 0.39201549\n",
      "epoch: 701  loss: 0.38240376\n",
      "epoch: 801  loss: 0.35828885\n",
      "epoch: 901  loss: 0.30534494\n",
      "epoch: 1001  loss: 0.27424946\n",
      "epoch: 1101  loss: 0.26136345\n",
      "epoch: 1201  loss: 0.25380781\n",
      "epoch: 1301  loss: 0.24804792\n",
      "epoch: 1401  loss: 0.24177741\n",
      "epoch: 1501  loss: 0.23492303\n",
      "epoch: 1601  loss: 0.22845545\n",
      "epoch: 1701  loss: 0.22393186\n",
      "epoch: 1801  loss: 0.21980342\n",
      "epoch: 1901  loss: 0.21500771\n",
      "epoch: 2001  loss: 0.21045676\n",
      "epoch: 2101  loss: 0.20734625\n",
      "epoch: 2201  loss: 0.20494124\n",
      "epoch: 2301  loss: 0.20261744\n",
      "epoch: 2401  loss: 0.19793582\n",
      "epoch: 2501  loss: 0.19396132\n",
      "epoch: 2601  loss: 0.18916704\n",
      "epoch: 2701  loss: 0.18438895\n",
      "epoch: 2801  loss: 0.17976508\n",
      "epoch: 2901  loss: 0.17463845\n",
      "epoch: 3001  loss: 0.17130893\n",
      "epoch: 3101  loss: 0.16851126\n",
      "epoch: 3201  loss: 0.16611274\n",
      "epoch: 3301  loss: 0.16428208\n",
      "epoch: 3401  loss: 0.16219823\n",
      "epoch: 3501  loss: 0.15995421\n",
      "epoch: 3601  loss: 0.15811026\n",
      "epoch: 3701  loss: 0.15656258\n",
      "epoch: 3801  loss: 0.15505859\n",
      "epoch: 3901  loss: 0.15370607\n",
      "epoch: 4001  loss: 0.15265486\n",
      "epoch: 4101  loss: 0.15163647\n",
      "epoch: 4201  loss: 0.15071376\n",
      "epoch: 4301  loss: 0.14981958\n",
      "epoch: 4401  loss: 0.14912768\n",
      "epoch: 4501  loss: 0.14841385\n",
      "epoch: 4601  loss: 0.14776278\n",
      "epoch: 4701  loss: 0.14692517\n",
      "epoch: 4801  loss: 0.14635606\n",
      "epoch: 4901  loss: 0.14566430\n",
      "epoch: 5001  loss: 0.14500651\n",
      "epoch: 5101  loss: 0.14431049\n",
      "epoch: 5201  loss: 0.14348996\n",
      "epoch: 5301  loss: 0.14261159\n",
      "epoch: 5401  loss: 0.14183475\n",
      "epoch: 5501  loss: 0.14098820\n",
      "epoch: 5601  loss: 0.14043480\n",
      "epoch: 5701  loss: 0.13958174\n",
      "epoch: 5801  loss: 0.13884155\n",
      "epoch: 5901  loss: 0.13835788\n",
      "epoch: 6001  loss: 0.13769624\n",
      "epoch: 6101  loss: 0.13702753\n",
      "epoch: 6201  loss: 0.13642956\n",
      "epoch: 6301  loss: 0.13580248\n",
      "epoch: 6401  loss: 0.13520725\n",
      "epoch: 6501  loss: 0.13462423\n",
      "epoch: 6601  loss: 0.13402772\n",
      "epoch: 6701  loss: 0.13341646\n",
      "epoch: 6801  loss: 0.13276955\n",
      "epoch: 6901  loss: 0.13217205\n",
      "epoch: 7001  loss: 0.13159357\n",
      "epoch: 7101  loss: 0.13087523\n",
      "epoch: 7201  loss: 0.12997144\n",
      "epoch: 7301  loss: 0.12926652\n",
      "epoch: 7401  loss: 0.12877484\n",
      "epoch: 7501  loss: 0.12796906\n",
      "epoch: 7601  loss: 0.12727430\n",
      "epoch: 7701  loss: 0.12686165\n",
      "epoch: 7801  loss: 0.12635994\n",
      "epoch: 7901  loss: 0.12549022\n",
      "epoch: 8001  loss: 0.12485391\n",
      "epoch: 8101  loss: 0.12377365\n",
      "epoch: 8201  loss: 0.12275217\n",
      "epoch: 8301  loss: 0.12183232\n",
      "epoch: 8401  loss: 0.12131553\n",
      "epoch: 8501  loss: 0.12074716\n",
      "epoch: 8601  loss: 0.12022008\n",
      "epoch: 8701  loss: 0.11982647\n",
      "epoch: 8801  loss: 0.11939625\n",
      "epoch: 8901  loss: 0.11910997\n",
      "epoch: 9001  loss: 0.11881281\n",
      "epoch: 9101  loss: 0.11838280\n",
      "epoch: 9201  loss: 0.11793616\n",
      "epoch: 9301  loss: 0.11775719\n",
      "epoch: 9401  loss: 0.11737411\n",
      "epoch: 9501  loss: 0.11705310\n",
      "epoch: 9601  loss: 0.11669023\n",
      "epoch: 9701  loss: 0.11644909\n",
      "epoch: 9801  loss: 0.11619110\n",
      "epoch: 9901  loss: 0.11603490\n"
     ]
    }
   ],
   "source": [
    "# Training\n",
    "epochs = 10000\n",
    "losses = []\n",
    "\n",
    "for i in range(epochs):\n",
    "    i+=1\n",
    "    y_pred = model.forward(X_train)\n",
    "    loss = criterion(y_pred, y_train)\n",
    "    losses.append(loss)\n",
    "    \n",
    "    if i%100 == 1:\n",
    "        print(f'epoch: {i:2}  loss: {loss.item():10.8f}')\n",
    "\n",
    "    optimizer.zero_grad()\n",
    "    loss.backward()\n",
    "    optimizer.step()"
   ]
  },
  {
   "cell_type": "code",
   "execution_count": 29,
   "metadata": {},
   "outputs": [
    {
     "data": {
      "image/png": "[encoded data removed]",
      "text/plain": [
       "<Figure size 432x288 with 1 Axes>"
      ]
     },
     "metadata": {
      "needs_background": "light"
     },
     "output_type": "display_data"
    }
   ],
   "source": [
    "plt.plot(range(epochs), losses)\n",
    "plt.ylabel('Loss')\n",
    "plt.xlabel('epoch');"
   ]
  },
  {
   "cell_type": "code",
   "execution_count": 30,
   "metadata": {},
   "outputs": [
    {
     "name": "stdout",
     "output_type": "stream",
     "text": [
      "0.80618882\n"
     ]
    }
   ],
   "source": [
    "# TO EVALUATE THE ENTIRE TEST SET\n",
    "with torch.no_grad():\n",
    "    y_val = model.forward(X_test)\n",
    "    loss = criterion(y_val, y_test)\n",
    "print(f'{loss:.8f}')"
   ]
  },
  {
   "cell_type": "code",
   "execution_count": 31,
   "metadata": {},
   "outputs": [
    {
     "name": "stdout",
     "output_type": "stream",
     "text": [
      "\n",
      "176 out of 195 = 90.26% correct\n"
     ]
    }
   ],
   "source": [
    "correct = 0\n",
    "with torch.no_grad():\n",
    "    for i,data in enumerate(X_test):\n",
    "        y_val = model.forward(data)\n",
    "        #print(f'{i+1:2}. {str(y_val):38}  {y_test[i]}')\n",
    "        if y_val.argmax().item() == y_test[i]:\n",
    "            correct += 1\n",
    "print(f'\\n{correct} out of {len(y_test)} = {100*correct/len(y_test):.2f}% correct')"
   ]
  },
  {
   "cell_type": "code",
   "execution_count": 32,
   "metadata": {},
   "outputs": [],
   "source": [
    "# Guardo el modelo\n",
    "torch.save(model.state_dict(), 'aislamiento.pt')"
   ]
  },
  {
   "cell_type": "code",
   "execution_count": 42,
   "metadata": {},
   "outputs": [],
   "source": [
    "# aplico el modelo a un material nuevo\n",
    "lana_vidrio_isover = torch.tensor([0.1, 0.3, 0.6, 0.93, 0.99, 0.98]) # panel PF 80 (25mm)\n",
    "espuma_fonac = torch.tensor([0.11, 0.14, 0.36, 0.82, 0.90, 0.97]) # Fonac (35mm)\n",
    "prueba = torch.tensor([0.7, 0.8, 0.5, 0.3, 0.2, 0.1])"
   ]
  },
  {
   "cell_type": "code",
   "execution_count": 43,
   "metadata": {},
   "outputs": [
    {
     "name": "stdout",
     "output_type": "stream",
     "text": [
      "tensor([-47.2830,  25.3922, -12.4651,  19.3954,  -1.0552])\n",
      "tensor([-41.2451,  18.9176,  -4.8874,  15.6087,  -0.6930])\n",
      "tensor([ 32.7106,  17.5740, -32.3445, -31.4476, -65.4320])\n"
     ]
    }
   ],
   "source": [
    "with torch.no_grad():\n",
    "    print(model(lana_vidrio_isover))\n",
    "    print(model(espuma_fonac))\n",
    "    print(model(prueba))"
   ]
  },
  {
   "cell_type": "code",
   "execution_count": null,
   "metadata": {},
   "outputs": [],
   "source": []
  }
 ],
 "metadata": {
  "kernelspec": {
   "display_name": "Python 3",
   "language": "python",
   "name": "python3"
  },
  "language_info": {
   "codemirror_mode": {
    "name": "ipython",
    "version": 3
   },
   "file_extension": ".py",
   "mimetype": "text/x-python",
   "name": "python",
   "nbconvert_exporter": "python",
   "pygments_lexer": "ipython3",
   "version": "3.8.5"
  }
 },
 "nbformat": 4,
 "nbformat_minor": 4
}
